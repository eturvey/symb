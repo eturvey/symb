{
 "cells": [
  {
   "cell_type": "markdown",
   "metadata": {},
   "source": [
    "# Probability Spaces"
   ]
  },
  {
   "cell_type": "markdown",
   "metadata": {},
   "source": [
    "A **probability space** consists of a **sample space** of possible outcomes and a **probability measure** which specifies how to assign probabilities to related events.  Many common probability spaces are available in Symbulate.  Users can also define their own probability spaces."
   ]
  },
  {
   "cell_type": "markdown",
   "metadata": {},
   "source": [
    "<a id='contents'></a>"
   ]
  },
  {
   "cell_type": "markdown",
   "metadata": {},
   "source": [
    "  1. [**BoxModel:**](#boxmodel) Define a simple box model probability space.\n",
    "  1. [**Draw:**](#draw) Draw an outcome according to a probability model.\n",
    "  1. [**ProbabilitySpace:**](#probability_space) Define more general probability spaces.\n",
    "  1. [**Independent spaces:**](#indep) Combine independent probability spaces with `*` and `**`"
   ]
  },
  {
   "cell_type": "markdown",
   "metadata": {
    "collapsed": true
   },
   "source": [
    "Be sure to import Symbulate during a session  using the following commands.\n",
    "<a id='prob'></a>"
   ]
  },
  {
   "cell_type": "code",
   "execution_count": 1,
   "metadata": {},
   "outputs": [],
   "source": [
    "from symbulate import *\n",
    "%matplotlib inline"
   ]
  },
  {
   "cell_type": "markdown",
   "metadata": {},
   "source": [
    "<a id='boxmodel'></a>"
   ]
  },
  {
   "cell_type": "markdown",
   "metadata": {},
   "source": [
    "### BoxModel\n",
    "\n",
    "The probability space in many elementary situations can be defined via a \"box model\": Labeled tickets are placed in a box and shuffled, and some number of tickets are drawn - either with or without replacement between draws. To define a Symbulate `BoxModel` enter a list repesenting the tickets in the box.  For example, rolling a fair six-sided die could be represented as a box model with six tickets labeled 1 through 6."
   ]
  },
  {
   "cell_type": "code",
   "execution_count": 2,
   "metadata": {},
   "outputs": [],
   "source": [
    "die = [1, 2, 3, 4, 5, 6]\n",
    "roll = BoxModel(die)"
   ]
  },
  {
   "cell_type": "markdown",
   "metadata": {},
   "source": [
    "The list of numbers could also have been created using `range()` in Python. Remember that Python indexing starts from 0 by default. Remember also that `range` gives you all the values, up to, but *not including* the last value."
   ]
  },
  {
   "cell_type": "code",
   "execution_count": 3,
   "metadata": {},
   "outputs": [],
   "source": [
    "die = list(range(1, 6+1)) # this is just a list of the number 1 through 6\n",
    "roll = BoxModel(die)"
   ]
  },
  {
   "cell_type": "markdown",
   "metadata": {},
   "source": [
    "<a id='draw'></a>"
   ]
  },
  {
   "cell_type": "markdown",
   "metadata": {},
   "source": [
    "### Draw\n",
    "\n",
    "`BoxModel` itself just defines the model; it does not return any values.  The same is true for any probability space. Each probability space comes with a `draw` method for simulating a single outcome."
   ]
  },
  {
   "cell_type": "code",
   "execution_count": 4,
   "metadata": {},
   "outputs": [
    {
     "data": {
      "text/plain": [
       "2"
      ]
     },
     "execution_count": 4,
     "metadata": {},
     "output_type": "execute_result"
    }
   ],
   "source": [
    "die = [1, 2, 3, 4, 5, 6]\n",
    "roll = BoxModel(die)\n",
    "roll.draw()"
   ]
  },
  {
   "cell_type": "markdown",
   "metadata": {},
   "source": [
    "**Important note:** `draw` is most useful when *defining* probability spaces, while [`sim`](sim.html#sim) is most useful when actually running simulations of many outcomes.  Most of the examples in this document use `sim` rather than `draw`."
   ]
  },
  {
   "cell_type": "markdown",
   "metadata": {},
   "source": [
    "Calling `draw` again will simulate another roll of the die."
   ]
  },
  {
   "cell_type": "code",
   "execution_count": 5,
   "metadata": {},
   "outputs": [
    {
     "data": {
      "text/plain": [
       "2"
      ]
     },
     "execution_count": 5,
     "metadata": {},
     "output_type": "execute_result"
    }
   ],
   "source": [
    "roll.draw()"
   ]
  },
  {
   "cell_type": "markdown",
   "metadata": {},
   "source": [
    "### BoxModel options\n",
    "* `box`: A list of \"tickets\" to sample from.\n",
    "* `size`: How many tickets to draw from the box.\n",
    "* `replace`: `True` if the draws are made with replacement; `False` if without replacement\n",
    "* `probs`: Probabilities that the tickets are selected.  By default, all tickets are equally likely.\n",
    "* `order_matters`: `True` (default) if different orderings of the same tickets drawn are counted as different outcomes; `False` if the order in which the tickets are drawn is irrelevant.\n",
    "\n",
    "Multiple tickets can be drawn from the box using the **`size`** argument."
   ]
  },
  {
   "cell_type": "code",
   "execution_count": 6,
   "metadata": {},
   "outputs": [
    {
     "data": {
      "text/plain": [
       "(5, 4, 4)"
      ]
     },
     "execution_count": 6,
     "metadata": {},
     "output_type": "execute_result"
    }
   ],
   "source": [
    "BoxModel(die, size=3).draw()"
   ]
  },
  {
   "cell_type": "markdown",
   "metadata": {},
   "source": [
    "Infinitely many tickets can be drawn (with replacement) using `size=inf`."
   ]
  },
  {
   "cell_type": "code",
   "execution_count": 7,
   "metadata": {},
   "outputs": [
    {
     "data": {
      "text/plain": [
       "(5, 1, 4, 1, 1, 2, ...)"
      ]
     },
     "execution_count": 7,
     "metadata": {},
     "output_type": "execute_result"
    }
   ],
   "source": [
    "BoxModel(die, size=inf).draw()"
   ]
  },
  {
   "cell_type": "markdown",
   "metadata": {},
   "source": [
    "By default `BoxModel` assumes equally likely tickets.  This can be changed using the **`probs`** argument, by specifying a probability value for each ticket.\n",
    "\n",
    "*Example.* Suppose 32% of Americans are Democrats, 27% are Republican, and 41% are Independent.  Five randomly selected Americans are surveyed about their political party affiliation.\n",
    "\n",
    "This situation could be represented as sampling with replacement from a box with 100 tickets, 32 of which are Democrat, etc, from which 5 tickets are drawn.  But rather than specifying a list of 100 tickets, we can just specify the three tickets and the corresponding probabilities with `probs`.  "
   ]
  },
  {
   "cell_type": "code",
   "execution_count": 8,
   "metadata": {},
   "outputs": [
    {
     "data": {
      "text/plain": [
       "(I, D, R, D, I)"
      ]
     },
     "execution_count": 8,
     "metadata": {},
     "output_type": "execute_result"
    }
   ],
   "source": [
    "BoxModel(['D', 'R', 'I'], probs=[0.32, 0.27, 0.41], size=5).draw()"
   ]
  },
  {
   "cell_type": "markdown",
   "metadata": {},
   "source": [
    "<a id='dictionary'></a>\n",
    "The `probs` argument requires that the probabilities are already normalized to sum to 1.  Non-normalized values can be handled by entering the tickets as a dictionary, specifying the label on each ticket and the number of tickets in the  box with that label.  Note that a dictionary is enclosed in braces `{}` rather than brackets `[]`.\n",
    "\n",
    "The following code is equivalent to the previous code which used the `probs` option."
   ]
  },
  {
   "cell_type": "code",
   "execution_count": 9,
   "metadata": {},
   "outputs": [
    {
     "data": {
      "text/plain": [
       "(R, I, D, R, I)"
      ]
     },
     "execution_count": 9,
     "metadata": {},
     "output_type": "execute_result"
    }
   ],
   "source": [
    "BoxModel({'D': 32,'R': 27, 'I': 41}, size=5).draw()"
   ]
  },
  {
   "cell_type": "markdown",
   "metadata": {},
   "source": [
    "By default `BoxModel` assumes sampling with replacement (`replace=True`); each ticket is placed back in the box before the next ticket is selected.  Sampling *without replacement* can be handled with `replace=False`.\n",
    "\n",
    "*Example.*  Two people are selected at random from Anakin, Bella, Frodo, Harry, Katniss to go on a quest."
   ]
  },
  {
   "cell_type": "code",
   "execution_count": 10,
   "metadata": {},
   "outputs": [
    {
     "data": {
      "text/plain": [
       "(F, K)"
      ]
     },
     "execution_count": 10,
     "metadata": {},
     "output_type": "execute_result"
    }
   ],
   "source": [
    "BoxModel(['A','B','F','H','K'], size=2, replace=False).draw()"
   ]
  },
  {
   "cell_type": "markdown",
   "metadata": {},
   "source": [
    "Note that by default, `BoxModel` returns ordered outcomes, e.g. ('A', 'B') is distinct from ('B', 'A'). To return unordered outcomes, set `order_matters=False`."
   ]
  },
  {
   "cell_type": "code",
   "execution_count": 11,
   "metadata": {},
   "outputs": [
    {
     "data": {
      "text/plain": [
       "(B, K)"
      ]
     },
     "execution_count": 11,
     "metadata": {},
     "output_type": "execute_result"
    }
   ],
   "source": [
    "BoxModel(['A','B','F','H','K'], size=2, replace=False, order_matters=False).draw()"
   ]
  },
  {
   "cell_type": "markdown",
   "metadata": {},
   "source": [
    "<a id='probability_space'></a>"
   ]
  },
  {
   "cell_type": "markdown",
   "metadata": {},
   "source": [
    "### ProbabilitySpace\n",
    "\n",
    "While Symbulate has many [common probability models](common.html) built in, custom probability spaces can be defined using the `ProbabilitySpace` command.  The first step in creating a probability space is to define a function that explains how to draw one outcome. \n",
    "\n",
    "*Example.* Ten percent of all e-mail is spam. Thirty percent of spam e-mails contain the word \"money\", while 2% of non-spam e-mails contain the word \"money\". Suppose an e-mail contains the word \"money\". What is the probability that it is spam?\n",
    "\n",
    "We can think of the sample space of outcomes of pairs of the possible email types (spam or not) and wordings (money or not), with the probability measure following the above specifications.  First we draw from a `BoxModel` to determine the email type.  Then, depending on the result of the first draw, we draw from one of two `BoxModel`s to determine the wording.  The function `spam_sim` below encodes these specifications; note the use of `.draw()`."
   ]
  },
  {
   "cell_type": "code",
   "execution_count": 12,
   "metadata": {},
   "outputs": [],
   "source": [
    "def spam_sim():\n",
    "    email_type = BoxModel([\"spam\", \"not spam\"], probs=[0.1, 0.9]).draw()\n",
    "    if email_type == \"spam\":\n",
    "        has_money = BoxModel([\"money\", \"no money\"], probs=[0.3, 0.7]).draw()\n",
    "    else:\n",
    "        has_money = BoxModel([\"money\", \"no money\"], probs=[0.02, 0.98]).draw()\n",
    "    return email_type, has_money"
   ]
  },
  {
   "cell_type": "markdown",
   "metadata": {},
   "source": [
    "A `ProbabilitySpace` can be created once the specifications of the simulation have been defined via a function, like `spam_sim` above."
   ]
  },
  {
   "cell_type": "code",
   "execution_count": 13,
   "metadata": {},
   "outputs": [
    {
     "data": {
      "text/plain": [
       "('not spam', 'no money')"
      ]
     },
     "execution_count": 13,
     "metadata": {},
     "output_type": "execute_result"
    }
   ],
   "source": [
    "P = ProbabilitySpace(spam_sim)\n",
    "P.draw()"
   ]
  },
  {
   "cell_type": "markdown",
   "metadata": {},
   "source": [
    "### Commonly used probability spaces\n",
    "\n",
    "Symbulate has many [commonly used probability spaces](common.html) built in.  Here are just a few examples.  "
   ]
  },
  {
   "cell_type": "code",
   "execution_count": 14,
   "metadata": {},
   "outputs": [
    {
     "data": {
      "text/plain": [
       "6"
      ]
     },
     "execution_count": 14,
     "metadata": {},
     "output_type": "execute_result"
    }
   ],
   "source": [
    "Binomial(n=10, p=0.5).draw()"
   ]
  },
  {
   "cell_type": "code",
   "execution_count": 15,
   "metadata": {},
   "outputs": [
    {
     "data": {
      "text/plain": [
       "-0.5934710096667243"
      ]
     },
     "execution_count": 15,
     "metadata": {},
     "output_type": "execute_result"
    }
   ],
   "source": [
    "Normal(mean=0, sd=1).draw()"
   ]
  },
  {
   "cell_type": "code",
   "execution_count": 16,
   "metadata": {},
   "outputs": [
    {
     "data": {
      "text/plain": [
       "(1.4766090641448149, 3.4092966537925666, 4.437591281203854)"
      ]
     },
     "execution_count": 16,
     "metadata": {},
     "output_type": "execute_result"
    }
   ],
   "source": [
    "mean_vector = [0, 1, 2]\n",
    "cov_matrix = [[1.00, 0.50, 0.25],\n",
    "              [0.50, 2.00, 0.00],\n",
    "              [0.25, 0.00, 4.00]]\n",
    "\n",
    "MultivariateNormal(mean = mean_vector, cov = cov_matrix).draw()"
   ]
  },
  {
   "cell_type": "markdown",
   "metadata": {},
   "source": [
    "Built in probability spaces can be used in defining custom probability via `ProbabilitySpace`, as in [this example](conditioning.html#conditional)."
   ]
  },
  {
   "cell_type": "markdown",
   "metadata": {},
   "source": [
    "<a id='indep'></a>"
   ]
  },
  {
   "cell_type": "markdown",
   "metadata": {},
   "source": [
    "### Independent probability spaces\n",
    "\n",
    "**Independent** probability spaces can be constructed by multiplying (`*` in Python) two probability spaces. The product `*` syntax reflects that under independence joint probabilities are products of marginal probabilities: For example, events $A$ and $B$ are independent if and only if $P(A\\cap B) = P(A)P(B)$. \n",
    "\n",
    "*Example.*  Roll a fair six-sided die and a fair four-sided die."
   ]
  },
  {
   "cell_type": "code",
   "execution_count": 17,
   "metadata": {},
   "outputs": [
    {
     "data": {
      "text/plain": [
       "(5, 4)"
      ]
     },
     "execution_count": 17,
     "metadata": {},
     "output_type": "execute_result"
    }
   ],
   "source": [
    "die6 = list(range(1, 6+1))\n",
    "die4 = list(range(1, 4+1))\n",
    "rolls = BoxModel(die6) * BoxModel(die4)\n",
    "rolls.draw()"
   ]
  },
  {
   "cell_type": "markdown",
   "metadata": {},
   "source": [
    "*Example.* A triple of independent outcomes"
   ]
  },
  {
   "cell_type": "code",
   "execution_count": 18,
   "metadata": {},
   "outputs": [
    {
     "data": {
      "text/plain": [
       "(H, 2, 0.40575095364500896)"
      ]
     },
     "execution_count": 18,
     "metadata": {},
     "output_type": "execute_result"
    }
   ],
   "source": [
    "( BoxModel(['H', 'T']) * Poisson(lam=2) * Exponential(rate=5) ).draw()"
   ]
  },
  {
   "cell_type": "markdown",
   "metadata": {},
   "source": [
    "**Multiple independent copies** of a probability space can be created by raising a probability space to a power using `**`.\n",
    "\n",
    "*Example.* A sequence of 10 fair coin flips using `BoxModel` and `**`.  (Note: for `BoxModel`, the `size` argument can be used instead of `**`.)"
   ]
  },
  {
   "cell_type": "code",
   "execution_count": 19,
   "metadata": {},
   "outputs": [
    {
     "data": {
      "text/plain": [
       "(T, T, H, T, H, ..., T)"
      ]
     },
     "execution_count": 19,
     "metadata": {},
     "output_type": "execute_result"
    }
   ],
   "source": [
    "(BoxModel(['H', 'T']) ** 10).draw()"
   ]
  },
  {
   "cell_type": "markdown",
   "metadata": {},
   "source": [
    "*Example.* Four independent Normal(0,1) values."
   ]
  },
  {
   "cell_type": "code",
   "execution_count": 20,
   "metadata": {},
   "outputs": [
    {
     "data": {
      "text/plain": [
       "(1.1853058564861767, 0.30913127795214823, 0.6799233253484153, -0.6190611408426031)"
      ]
     },
     "execution_count": 20,
     "metadata": {},
     "output_type": "execute_result"
    }
   ],
   "source": [
    "P = Normal(mean=0, sd=1) ** 4\n",
    "P.draw()"
   ]
  },
  {
   "cell_type": "markdown",
   "metadata": {},
   "source": [
    "**Infinitely many independent copies** of a probability space can be created by raising the  probabilty space to the `inf` power, i.e. `** inf`\n",
    "\n",
    "*Example.* An infinite sequence of fair coin flips using `BoxModel` and `** inf`.  (Note: for `BoxModel`, the `size=inf` argument can be used instead of `** inf`.)"
   ]
  },
  {
   "cell_type": "code",
   "execution_count": 21,
   "metadata": {},
   "outputs": [
    {
     "data": {
      "text/plain": [
       "(H, H, H, T, H, T, ...)"
      ]
     },
     "execution_count": 21,
     "metadata": {},
     "output_type": "execute_result"
    }
   ],
   "source": [
    "(BoxModel(['H', 'T']) ** inf).draw()"
   ]
  },
  {
   "cell_type": "markdown",
   "metadata": {},
   "source": [
    "*Example*. Infinitely many independent Normal(0, 1) values."
   ]
  },
  {
   "cell_type": "code",
   "execution_count": 22,
   "metadata": {},
   "outputs": [
    {
     "data": {
      "text/plain": [
       "(0.128155271646392, -0.4654743596571168, -0.017203817707428366, 0.20665029252484357, 2.4307077949271374, 1.104763555755993, ...)"
      ]
     },
     "execution_count": 22,
     "metadata": {},
     "output_type": "execute_result"
    }
   ],
   "source": [
    "P = Normal(mean=0, sd=1) ** inf\n",
    "P.draw()"
   ]
  },
  {
   "cell_type": "markdown",
   "metadata": {},
   "source": [
    "<!--\n",
    "For more information on `*` and `**` see NEED LINK HERE.\n",
    "-->"
   ]
  }
 ],
 "metadata": {
  "anaconda-cloud": {},
  "kernelspec": {
   "display_name": "Python 3",
   "language": "python",
   "name": "python3"
  },
  "language_info": {
   "codemirror_mode": {
    "name": "ipython",
    "version": 3
   },
   "file_extension": ".py",
   "mimetype": "text/x-python",
   "name": "python",
   "nbconvert_exporter": "python",
   "pygments_lexer": "ipython3",
   "version": "3.7.3"
  }
 },
 "nbformat": 4,
 "nbformat_minor": 1
}
