{
 "cells": [
  {
   "cell_type": "markdown",
   "metadata": {},
   "source": [
    "# Symbulate Documentation\n",
    "\n",
    "# Common Probability Models"
   ]
  },
  {
   "cell_type": "markdown",
   "metadata": {},
   "source": [
    "Many commonly used probability models are built into Symbulate.  These models can be used to either specify probability spaces or distributions of random variables or processes."
   ]
  },
  {
   "cell_type": "markdown",
   "metadata": {},
   "source": [
    "1. [**Cards, coins, dice**](common_cards_coins_dice.html)\n",
    "1. [**Discrete distributions**](common_discrete.html)\n",
    "1. [**Continuous distributions**](common_continuous.html)\n",
    "1. [**Methods for common discrete and continuous distributions**](common_general_comments.html)\n",
    "1. [**Joint distributions**](common_joint.html)\n",
    "1. [**Common random processes**](common_random.html)"
   ]
  },
  {
   "cell_type": "markdown",
   "metadata": {},
   "source": [
    "< [Random variables](rv.html) | [Contents](index.html) | [Cards, coins, dice](common_cards_coins_dice.html) >"
   ]
  },
  {
   "cell_type": "code",
   "execution_count": null,
   "metadata": {},
   "outputs": [],
   "source": []
  }
 ],
 "metadata": {
  "anaconda-cloud": {},
  "kernelspec": {
   "display_name": "Python 3",
   "language": "python",
   "name": "python3"
  },
  "language_info": {
   "codemirror_mode": {
    "name": "ipython",
    "version": 3
   },
   "file_extension": ".py",
   "mimetype": "text/x-python",
   "name": "python",
   "nbconvert_exporter": "python",
   "pygments_lexer": "ipython3",
   "version": "3.7.3"
  }
 },
 "nbformat": 4,
 "nbformat_minor": 1
}
