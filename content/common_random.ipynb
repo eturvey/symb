{
 "cells": [
  {
   "cell_type": "markdown",
   "metadata": {},
   "source": [
    "# Common Random Processes"
   ]
  },
  {
   "cell_type": "markdown",
   "metadata": {},
   "source": [
    "Several common random processes are built in to Symbulate, including the following.  See the documentation for these processes for more details.\n",
    "\n",
    "* [Discrete time Markov chains](mc.html#dtmc)\n",
    "* [Continuous time Markov chains](mc.html#ctmc)\n",
    "* [Poisson processes](mc.html#poisson)\n",
    "* [Gaussian processes]\n",
    "* [Brownian motion]\n"
   ]
  }
 ],
 "metadata": {
  "kernelspec": {
   "display_name": "Python 3",
   "language": "python",
   "name": "python3"
  },
  "language_info": {
   "codemirror_mode": {
    "name": "ipython",
    "version": 3
   },
   "file_extension": ".py",
   "mimetype": "text/x-python",
   "name": "python",
   "nbconvert_exporter": "python",
   "pygments_lexer": "ipython3",
   "version": "3.7.3"
  }
 },
 "nbformat": 4,
 "nbformat_minor": 2
}
