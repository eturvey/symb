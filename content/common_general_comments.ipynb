{
 "cells": [
  {
   "cell_type": "markdown",
   "metadata": {},
   "source": [
    "# Methods for Common Discrete and Continuous Distributions "
   ]
  },
  {
   "cell_type": "markdown",
   "metadata": {},
   "source": [
    "Symbulate can function as an analytical distribution calculator to calculate theoretical probabilities, expected values, and quantiles for common [discrete](common_discrete.html) and [continuous](common_continuous.html) distributions."
   ]
  },
  {
   "cell_type": "markdown",
   "metadata": {},
   "source": [
    "<a id='contents'></a>"
   ]
  },
  {
   "cell_type": "markdown",
   "metadata": {},
   "source": [
    "1. [**Probability density function (pdf)**](#pdf)\n",
    "1. [**Cumulative distribution function (cdf)**](#cdf)\n",
    "1. [**Expected value (mean)**](#mean)\n",
    "1. [**Variance (var) and standard deviation (sd)**](#sd)\n",
    "1. [**Quantile**](#quantile)\n",
    "1. [**Median**](#median)"
   ]
  },
  {
   "cell_type": "markdown",
   "metadata": {},
   "source": [
    "Be sure to import Symbulate using the following commands."
   ]
  },
  {
   "cell_type": "code",
   "execution_count": 1,
   "metadata": {},
   "outputs": [],
   "source": [
    "from symbulate import *\n",
    "%matplotlib inline"
   ]
  },
  {
   "cell_type": "markdown",
   "metadata": {},
   "source": [
    "<a id='pdf'></a>\n",
    "### Probability density function (pdf)"
   ]
  },
  {
   "cell_type": "markdown",
   "metadata": {},
   "source": [
    "The `.pdf()` method evaluates the probability density function of named distributions.  If $f$ is the pdf of a named continuous `Distribution`, calling `Distribution.pdf(x)` returns the value $f(x)$.\n",
    "\n",
    "*Example.* The Normal(0, 1) pdf evaluated at 0 is $f(0)=1/\\sqrt{2\\pi}$."
   ]
  },
  {
   "cell_type": "code",
   "execution_count": 2,
   "metadata": {},
   "outputs": [
    {
     "data": {
      "text/plain": [
       "0.3989422804014327"
      ]
     },
     "execution_count": 2,
     "metadata": {},
     "output_type": "execute_result"
    }
   ],
   "source": [
    "Normal(mean=0, sd=1).pdf(0)"
   ]
  },
  {
   "cell_type": "markdown",
   "metadata": {},
   "source": [
    "For discrete random variables, the probability density function is also known as the probability mass function (pmf).  If $p$ is the pmf of a named discrete `Distribution`, calling `Distribution.pdf(x)` returns the value $p(x)$.\n",
    "\n",
    "*Example*. The Binomial(5, 0.4) pmf evaluated at 3, which is $\\binom{5}{3}0.4^3 0.6^2$."
   ]
  },
  {
   "cell_type": "code",
   "execution_count": 3,
   "metadata": {},
   "outputs": [
    {
     "data": {
      "text/plain": [
       "0.2304"
      ]
     },
     "execution_count": 3,
     "metadata": {},
     "output_type": "execute_result"
    }
   ],
   "source": [
    "Binomial(n=5, p=0.4).pdf(3)"
   ]
  },
  {
   "cell_type": "markdown",
   "metadata": {},
   "source": [
    "<a id='cdf'></a>\n",
    "### Cumulative distribution function (cdf)"
   ]
  },
  {
   "cell_type": "markdown",
   "metadata": {},
   "source": [
    "Recall that if $X$ is a random variable defined on a probability space with probability measure $P$, then its **cumulative distribution function**, $F:\\mathbb{R}\\mapsto[0,1]$, is defined by $F(x) = P(X\\le x)$.  The `.cdf()` method evaluates the cumulative distribution function of named distributions.  If $F$ is the cdf of a named `Distribution`, calling `Distribution.cdf(x)` returns the value $F(x)$.\n",
    "\n",
    "*Example.* The Normal(0, 1) cdf evaluated at 2 is $\\int_{-\\infty}^2 \\frac{1}{\\sqrt{2\\pi}} e^{-z^2/2}\\, dz$, which is roughly 0.975."
   ]
  },
  {
   "cell_type": "code",
   "execution_count": 4,
   "metadata": {},
   "outputs": [
    {
     "data": {
      "text/plain": [
       "0.9772498680518208"
      ]
     },
     "execution_count": 4,
     "metadata": {},
     "output_type": "execute_result"
    }
   ],
   "source": [
    "Normal(mean=0, sd=1).cdf(2)"
   ]
  },
  {
   "cell_type": "markdown",
   "metadata": {},
   "source": [
    "*Example*. The Binomial(5, 0.4) cdf evaluated at 3 is $\\sum_{x=0}^3\\binom{5}{x}0.4^x 0.6^{5-x}$."
   ]
  },
  {
   "cell_type": "code",
   "execution_count": 5,
   "metadata": {},
   "outputs": [
    {
     "data": {
      "text/plain": [
       "0.91296"
      ]
     },
     "execution_count": 5,
     "metadata": {},
     "output_type": "execute_result"
    }
   ],
   "source": [
    "Binomial(n=5, p = 0.4).cdf(3)"
   ]
  },
  {
   "cell_type": "markdown",
   "metadata": {},
   "source": [
    "<a id='mean'></a>\n",
    "### Expected value (mean)"
   ]
  },
  {
   "cell_type": "markdown",
   "metadata": {},
   "source": [
    "For a named `Distribution`, calling `Distribution.mean()` returns its [expected value (mean)](rv.html#mean).\n",
    "\n",
    "*Example.* The expected value of a Gamma distribution with shape parameter $\\alpha$ and rate parameter $\\lambda$ is $\\alpha/\\lambda$."
   ]
  },
  {
   "cell_type": "code",
   "execution_count": 6,
   "metadata": {},
   "outputs": [
    {
     "data": {
      "text/plain": [
       "5.0"
      ]
     },
     "execution_count": 6,
     "metadata": {},
     "output_type": "execute_result"
    }
   ],
   "source": [
    "Gamma(shape=10, rate=2).mean()"
   ]
  },
  {
   "cell_type": "markdown",
   "metadata": {},
   "source": [
    "*Example*. The expected value of a Binomial($n$, $p$) distribution is $np$."
   ]
  },
  {
   "cell_type": "code",
   "execution_count": 7,
   "metadata": {},
   "outputs": [
    {
     "data": {
      "text/plain": [
       "2.0"
      ]
     },
     "execution_count": 7,
     "metadata": {},
     "output_type": "execute_result"
    }
   ],
   "source": [
    "Binomial(n=5, p=0.4).mean()"
   ]
  },
  {
   "cell_type": "markdown",
   "metadata": {},
   "source": [
    "There are some technicalities that can be encountered regarding whether an expected value is defined or finite.  If $E(X)$ is defined, it can be written as $E(X) = E(\\max(X,0)) - E(-\\min(X, 0))$.The expected value of a random variable is finite only if both $E(\\max(X,0))$ and $E(-\\min(X, 0))$ are finite.\n",
    "\n",
    "It is possible to have infinite expected value, if one of $E(\\max(X,0))$ and $E(-\\min(X, 0))$ is infinite and the other is finite.\n",
    "\n",
    "*Example.*  The expected value of an $F$ distribution with $d_2$ degrees of freedom in the denominator is infinite if $d_2\\le 2$."
   ]
  },
  {
   "cell_type": "code",
   "execution_count": 8,
   "metadata": {},
   "outputs": [
    {
     "data": {
      "text/plain": [
       "inf"
      ]
     },
     "execution_count": 8,
     "metadata": {},
     "output_type": "execute_result"
    }
   ],
   "source": [
    "F(dfN=10, dfD=2).mean()"
   ]
  },
  {
   "cell_type": "markdown",
   "metadata": {},
   "source": [
    "The expected value of a random variable $X$ is undefined if both $E(\\max(X, 0))$ and $E(-\\min(X, 0))$ are infinite. \n",
    "\n",
    "*Example.* The expected value of a Cauchy distribution is undefined."
   ]
  },
  {
   "cell_type": "code",
   "execution_count": 9,
   "metadata": {},
   "outputs": [
    {
     "data": {
      "text/plain": [
       "nan"
      ]
     },
     "execution_count": 9,
     "metadata": {},
     "output_type": "execute_result"
    }
   ],
   "source": [
    "Cauchy(loc=0, scale=1).mean()"
   ]
  },
  {
   "cell_type": "markdown",
   "metadata": {},
   "source": [
    "<a id='sd'></a>\n",
    "### Variance (var) and standard deviation (sd)"
   ]
  },
  {
   "cell_type": "markdown",
   "metadata": {},
   "source": [
    "For a named `Distribution`, calling `Distribution.var()` returns its [variance](rv.html#var) and `Distribution.sd()` returns its \n",
    "[standard deviation](rv.html#var).\n",
    "\n",
    "*Example.* The variance of a Gamma distribution with shape parameter $\\alpha$ and rate parameter $\\lambda$ is $\\alpha/\\lambda^2$."
   ]
  },
  {
   "cell_type": "code",
   "execution_count": 10,
   "metadata": {},
   "outputs": [
    {
     "data": {
      "text/plain": [
       "2.5"
      ]
     },
     "execution_count": 10,
     "metadata": {},
     "output_type": "execute_result"
    }
   ],
   "source": [
    "Gamma(shape=10, rate=2).var()"
   ]
  },
  {
   "cell_type": "markdown",
   "metadata": {},
   "source": [
    "*Example*. The standard deviation of a Binomial($n$, $p$) distribution is $\\sqrt{np(1-p)}$."
   ]
  },
  {
   "cell_type": "code",
   "execution_count": 11,
   "metadata": {},
   "outputs": [
    {
     "data": {
      "text/plain": [
       "1.0954451150103321"
      ]
     },
     "execution_count": 11,
     "metadata": {},
     "output_type": "execute_result"
    }
   ],
   "source": [
    "Binomial(n=5, p=0.4).sd()"
   ]
  },
  {
   "cell_type": "markdown",
   "metadata": {},
   "source": [
    "Similar to the expected value, technicalities can be encountered regarding whether a variance is defined and finite.\n",
    "\n",
    "*Example.*  For a Student's t distribution, the variance is undefined for 1 degree of freedom, infinite for 2 degrees of freedom, and finite for at least 3 degrees of freedom."
   ]
  },
  {
   "cell_type": "code",
   "execution_count": 12,
   "metadata": {},
   "outputs": [
    {
     "data": {
      "text/plain": [
       "nan"
      ]
     },
     "execution_count": 12,
     "metadata": {},
     "output_type": "execute_result"
    }
   ],
   "source": [
    "StudentT(df=1).var()"
   ]
  },
  {
   "cell_type": "code",
   "execution_count": 13,
   "metadata": {},
   "outputs": [
    {
     "data": {
      "text/plain": [
       "inf"
      ]
     },
     "execution_count": 13,
     "metadata": {},
     "output_type": "execute_result"
    }
   ],
   "source": [
    "StudentT(df=2).var()"
   ]
  },
  {
   "cell_type": "code",
   "execution_count": 14,
   "metadata": {},
   "outputs": [
    {
     "data": {
      "text/plain": [
       "3.0"
      ]
     },
     "execution_count": 14,
     "metadata": {},
     "output_type": "execute_result"
    }
   ],
   "source": [
    "StudentT(df=3).var()"
   ]
  },
  {
   "cell_type": "markdown",
   "metadata": {},
   "source": [
    "<a id='quantile'></a>\n",
    "### Quantile"
   ]
  },
  {
   "cell_type": "markdown",
   "metadata": {},
   "source": [
    "For a named `Distribution`, calling `Distribution.quantile(p)` returns the $p$th quantile $Q(p)$.\n",
    "\n",
    "Roughly, the value $x$ is the $p$th percentile (or quantile) of a distribution of a variable if $p$ percent of values of the\n",
    "variable are less than or equal to $x$.  For example, saying that 630 is the 90th percentile of SAT Math scores means that 90% of scores are 630 or less.\n",
    "\n",
    "The cumulative distribution function (cdf) of a RV fills in the blank in the following: $x$ is the [blank] percentile.  On the other hand, the quantile function &mdash; essentially the inverse cdf &mdash; fills in the blank in the following: the $p$th percentile is [blank].\n",
    "\n",
    "If a cdf $F$ is continuous and strictly increasing on its the range of possible values, then its inverse $F^{-1}:[0,1]\\mapsto\\mathbb{R}$ exists and is called the quantile (or percentile) function: $Q(p) = F^{-1}(p)$ for $p\\in[0, 1]$.  That is, if $x^*=Q(p)$ then $F(x^*)=p$. \n",
    "\n",
    "*Example.* Scores on the SAT Math exam have an approximate Normal distribution with mean 500 and standard deviation 100.  The 90th percentile of scores is about 630, meaning that about 90% of scores are 630 or less."
   ]
  },
  {
   "cell_type": "code",
   "execution_count": 15,
   "metadata": {},
   "outputs": [
    {
     "data": {
      "text/plain": [
       "628.1551565544601"
      ]
     },
     "execution_count": 15,
     "metadata": {},
     "output_type": "execute_result"
    }
   ],
   "source": [
    "Normal(mean=500, sd=100).quantile(0.9)"
   ]
  },
  {
   "cell_type": "code",
   "execution_count": 16,
   "metadata": {},
   "outputs": [
    {
     "data": {
      "text/plain": [
       "0.8999997252492584"
      ]
     },
     "execution_count": 16,
     "metadata": {},
     "output_type": "execute_result"
    }
   ],
   "source": [
    "Normal(mean=500, sd=100).cdf(628.155)"
   ]
  },
  {
   "cell_type": "markdown",
   "metadata": {},
   "source": [
    "For many continuous distributions, the quantile function can be defined as the inverse cdf.  However, in some cases the inverse cdf is not well defined.  This is true in particular for discrete distributions, since the cdf of a discrete distribution is a step function.  For example, for a Binomial(5, 0.5) distribution, $F(x) = 0.5$ for $2\\le x <3$, so there is not a unique value $x^*$ which satisfies $F(x^*)=0.5$.  Also, $F(3) = 0.8125$ there is no value $x^*$ for which $F(x^*) = p$ for $0.5 < p < 0.8125$."
   ]
  },
  {
   "cell_type": "code",
   "execution_count": 17,
   "metadata": {},
   "outputs": [
    {
     "data": {
      "text/plain": [
       "0.5"
      ]
     },
     "execution_count": 17,
     "metadata": {},
     "output_type": "execute_result"
    }
   ],
   "source": [
    "Binomial(5, 0.5).cdf(2)"
   ]
  },
  {
   "cell_type": "code",
   "execution_count": 18,
   "metadata": {},
   "outputs": [
    {
     "data": {
      "text/plain": [
       "0.5"
      ]
     },
     "execution_count": 18,
     "metadata": {},
     "output_type": "execute_result"
    }
   ],
   "source": [
    "Binomial(5, 0.5).cdf(2.3)"
   ]
  },
  {
   "cell_type": "code",
   "execution_count": 19,
   "metadata": {},
   "outputs": [
    {
     "data": {
      "text/plain": [
       "0.8125"
      ]
     },
     "execution_count": 19,
     "metadata": {},
     "output_type": "execute_result"
    }
   ],
   "source": [
    "Binomial(5, 0.5).cdf(3)"
   ]
  },
  {
   "cell_type": "markdown",
   "metadata": {},
   "source": [
    "To account for such situations in which the inverse cdf is not well defined, the **quantile (or percentile) function** $Q:[0,1]\\mapsto\\mathbb{R}$ is defined as\n",
    "\n",
    "$$\n",
    "Q(p) = \\inf\\{x: F(x) \\ge p\\}, \\qquad \\text{for } 0\\le p \\le 1.\n",
    "$$\n",
    "\n",
    "When $F^{-1}$ exists then $Q=F^{-1}$.\n",
    "\n",
    "*Example*.  For a Binomial(5, 0.5) distribution, $F(x) = 0.5$ for $2\\le x <3$, and $F(x)<0.5$ for $x < 2$, so $Q(0.5) = 2$.   Also, since $F(3)=0.8125$ then $Q(p) = 3$ for $0.5 < p \\le 0.8125$"
   ]
  },
  {
   "cell_type": "code",
   "execution_count": 20,
   "metadata": {},
   "outputs": [
    {
     "data": {
      "text/plain": [
       "2.0"
      ]
     },
     "execution_count": 20,
     "metadata": {},
     "output_type": "execute_result"
    }
   ],
   "source": [
    "Binomial(n=5, p=0.5).quantile(0.5)"
   ]
  },
  {
   "cell_type": "code",
   "execution_count": 21,
   "metadata": {},
   "outputs": [
    {
     "data": {
      "text/plain": [
       "3.0"
      ]
     },
     "execution_count": 21,
     "metadata": {},
     "output_type": "execute_result"
    }
   ],
   "source": [
    "Binomial(n=5, p=0.5).quantile(0.6)"
   ]
  },
  {
   "cell_type": "code",
   "execution_count": 22,
   "metadata": {},
   "outputs": [
    {
     "data": {
      "text/plain": [
       "3.0"
      ]
     },
     "execution_count": 22,
     "metadata": {},
     "output_type": "execute_result"
    }
   ],
   "source": [
    "Binomial(n=5, p=0.5).quantile(0.75)"
   ]
  },
  {
   "cell_type": "code",
   "execution_count": 23,
   "metadata": {},
   "outputs": [
    {
     "data": {
      "text/plain": [
       "3.0"
      ]
     },
     "execution_count": 23,
     "metadata": {},
     "output_type": "execute_result"
    }
   ],
   "source": [
    "Binomial(n=5, p=0.5).quantile(0.8125)"
   ]
  },
  {
   "cell_type": "code",
   "execution_count": 24,
   "metadata": {},
   "outputs": [
    {
     "data": {
      "text/plain": [
       "4.0"
      ]
     },
     "execution_count": 24,
     "metadata": {},
     "output_type": "execute_result"
    }
   ],
   "source": [
    "Binomial(n=5, p=0.5).quantile(0.8126)"
   ]
  },
  {
   "cell_type": "markdown",
   "metadata": {},
   "source": [
    "<a id='median'></a>\n",
    "### Median"
   ]
  },
  {
   "cell_type": "markdown",
   "metadata": {},
   "source": [
    "Roughly, the median is the 50th percentile of a distribution.  If a distribution has quantile function $Q$, then $Q(0.5)$ is the **median**.  For a named `Distribution`, calling `Distribution.median()` returns its median.\n",
    "\n",
    "*Example.* For a Normal distribution, the median and the mean are equal."
   ]
  },
  {
   "cell_type": "code",
   "execution_count": 25,
   "metadata": {},
   "outputs": [
    {
     "data": {
      "text/plain": [
       "500.0"
      ]
     },
     "execution_count": 25,
     "metadata": {},
     "output_type": "execute_result"
    }
   ],
   "source": [
    "Normal(mean=500, sd=100).median()"
   ]
  },
  {
   "cell_type": "markdown",
   "metadata": {},
   "source": [
    "*Example.* As discussed above, the median of a Binomial(5, 0.5) distribution is 2.  For a Binomial($n$, $p$) distribution if the mean $np$ is a whole number, then the median is also equal to $np$."
   ]
  },
  {
   "cell_type": "code",
   "execution_count": 26,
   "metadata": {},
   "outputs": [
    {
     "data": {
      "text/plain": [
       "2.0"
      ]
     },
     "execution_count": 26,
     "metadata": {},
     "output_type": "execute_result"
    }
   ],
   "source": [
    "Binomial(5, 0.5).median()"
   ]
  },
  {
   "cell_type": "code",
   "execution_count": 27,
   "metadata": {},
   "outputs": [
    {
     "data": {
      "text/plain": [
       "10.0"
      ]
     },
     "execution_count": 27,
     "metadata": {},
     "output_type": "execute_result"
    }
   ],
   "source": [
    "Binomial(1000, 0.01).median()"
   ]
  },
  {
   "cell_type": "markdown",
   "metadata": {},
   "source": [
    "*Example.* The mean of a Cauchy distribution is undefined, but the median is equal to its location parameter."
   ]
  },
  {
   "cell_type": "code",
   "execution_count": 28,
   "metadata": {},
   "outputs": [
    {
     "data": {
      "text/plain": [
       "0.0"
      ]
     },
     "execution_count": 28,
     "metadata": {},
     "output_type": "execute_result"
    }
   ],
   "source": [
    "Cauchy(loc=0, scale=1).median()"
   ]
  }
 ],
 "metadata": {
  "kernelspec": {
   "display_name": "Python 3",
   "language": "python",
   "name": "python3"
  },
  "language_info": {
   "codemirror_mode": {
    "name": "ipython",
    "version": 3
   },
   "file_extension": ".py",
   "mimetype": "text/x-python",
   "name": "python",
   "nbconvert_exporter": "python",
   "pygments_lexer": "ipython3",
   "version": "3.7.3"
  }
 },
 "nbformat": 4,
 "nbformat_minor": 2
}
