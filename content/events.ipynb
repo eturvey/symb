{
 "cells": [
  {
   "cell_type": "markdown",
   "metadata": {},
   "source": [
    "# Simulating Events"
   ]
  },
  {
   "cell_type": "markdown",
   "metadata": {},
   "source": [
    "Be sure to import Symbulate using the following commands.\n",
    "<a id='rv'></a>"
   ]
  },
  {
   "cell_type": "code",
   "execution_count": null,
   "metadata": {},
   "outputs": [],
   "source": [
    "from symbulate import *\n",
    "%matplotlib inline"
   ]
  },
  {
   "cell_type": "markdown",
   "metadata": {},
   "source": [
    "An **event** is a set of outcomes in the probability space.  For example, if the random variable $X$ represents the number of Heads in 5 flips of a fair coin, then the event $\\{X>3\\}$ is the collection of Heads/Tails sequences with more than 3 Heads.  For syntactical reasons, in Symbulate events must be enclosed in parentheses rather than braces, e.g `(X > 3)`.  Events like `(X > 3)` can be simulated; calling `.sim()` on an event returns `True` for outcomes where the event occurs and `False` otherwise. Simulating events provides another method for estimating probabilities.\n",
    "\n",
    "*Example.* If $X$ represents the number of Heads in 5 flips of a fair coin, the following is one method for estimating $P(X > 3)$, the probability of more than 3 Heads in 5 flips of a fair coin.  (The true probability is 0.1875.)"
   ]
  },
  {
   "cell_type": "code",
   "execution_count": 9,
   "metadata": {},
   "outputs": [
    {
     "data": {
      "text/html": [
       "\n",
       "<table>\n",
       "  <thead>\n",
       "    <th width=\"80%\">Outcome</th>\n",
       "    <th width=\"20%\">Value</th>\n",
       "  </thead>\n",
       "  <tbody>\n",
       "    <tr><td>False</td><td>8133</td></tr><tr><td>True</td><td>1867</td></tr><tr><td><b>Total</b></td><td><b>10000</b></td></tr>\n",
       "  </tbody>\n",
       "</table>\n"
      ],
      "text/plain": [
       "{False: 8133, True: 1867}"
      ]
     },
     "execution_count": 9,
     "metadata": {},
     "output_type": "execute_result"
    }
   ],
   "source": [
    "P = BoxModel([0, 1], size=5)\n",
    "X = RV(P, sum)\n",
    "(X > 3).sim(10000).tabulate()"
   ]
  },
  {
   "cell_type": "markdown",
   "metadata": {},
   "source": [
    "<a id='plot'></a>"
   ]
  },
  {
   "cell_type": "markdown",
   "metadata": {},
   "source": [
    "### Visualizing simulation results with `.plot()`\n",
    "\n",
    "The `.tabulate()` method provides a tabular summary of the simulated values of an `RV`.  A plot summary can be obtained with `.plot()`.  The type of plot returned depends on the type of the random variable, discrete or continuous.\n",
    "\n",
    "For *discrete* random variables, `.plot()` generally returns an \"impulse\" (or \"spike\") plot of the relative frequencies for each of the realized values.  (Frequencies (counts) can be obtained using the `normalize=False` option.)"
   ]
  },
  {
   "cell_type": "code",
   "execution_count": 10,
   "metadata": {},
   "outputs": [
    {
     "data": {
      "image/png": "[encoded data removed]",
      "text/plain": [
       "<Figure size 432x288 with 1 Axes>"
      ]
     },
     "metadata": {
      "needs_background": "light"
     },
     "output_type": "display_data"
    }
   ],
   "source": [
    "P = BoxModel([0, 1], size=5)\n",
    "X = RV(P, sum)\n",
    "X.sim(10000).plot()"
   ]
  },
  {
   "cell_type": "markdown",
   "metadata": {},
   "source": [
    "For *continuous* random variables, `.plot()` returns a *histogram*, which provides the frequencies of simulated values falling in interval \"bins\".  By default, the vertical axis of the histogram is on the *density* scale, so that *areas* of the bars correspond to relative frequencies.  (Bin frequencies (counts) can be obtained using the `normalize=False` option.)"
   ]
  },
  {
   "cell_type": "code",
   "execution_count": 11,
   "metadata": {},
   "outputs": [
    {
     "data": {
      "image/png": "[encoded data removed]",
      "text/plain": [
       "<Figure size 432x288 with 1 Axes>"
      ]
     },
     "metadata": {
      "needs_background": "light"
     },
     "output_type": "display_data"
    }
   ],
   "source": [
    "P = Normal(mean=0, sd=1)\n",
    "X = RV(P)\n",
    "X.sim(10000).plot()"
   ]
  },
  {
   "cell_type": "markdown",
   "metadata": {},
   "source": [
    "See the section on [Symbulate graphics](graphics.html) for more details on plotting options and functionality. "
   ]
  },
  {
   "cell_type": "markdown",
   "metadata": {},
   "source": [
    "<a id='distribution'></a>"
   ]
  },
  {
   "cell_type": "markdown",
   "metadata": {},
   "source": [
    "### Distribution of a random variable\n",
    "\n",
    "The `.tabulate()` and `.plot()` methods provide summaries of the distribution of a random variable.  The **distribution of a random variable** is a probability model on the real line which describes the possible values that the random variable can take and their relative likelihoods.   The distribution of a random variable is determined by (1) the underlying probability space on which the random variable is defined and (2) the function (mapping the probability space outcomes to real numbers) that defines the random variable.  For example, if $X$ represents the number of Heads in 5 flips of a fair coin, we say that $X$ has a `Binomial(n=5, p=0.5)` distribution.\n",
    "\n",
    "It also common to specify the distribution of a random variable directly.  For example, a problem may  state \"let $X$ have a Binomial(5, 0.5) distribution\" without mention of the underlying probabilty space or random variable.  `RV` can also be used to define a random variable by specifying its distribution.  (Many [common probability distributions](common.html) are built into Symbulate.)"
   ]
  },
  {
   "cell_type": "code",
   "execution_count": 12,
   "metadata": {},
   "outputs": [
    {
     "data": {
      "image/png": "[encoded data removed]",
      "text/plain": [
       "<Figure size 432x288 with 1 Axes>"
      ]
     },
     "metadata": {
      "needs_background": "light"
     },
     "output_type": "display_data"
    }
   ],
   "source": [
    "X = RV(Binomial(n=5, p=0.5))\n",
    "X.sim(10000).plot()"
   ]
  },
  {
   "cell_type": "markdown",
   "metadata": {},
   "source": [
    "By definition, a random variable must always be a function defined on a probability space.  Specifying a random variable by specifying its distribution, as in `X = RV(Binomial(n=5, p=0.5))`, has the effect of defining the probability space to be the distribution of the random variable and the function defined on this space to be the identity (`f(x) = x`). However, it is more appropriate to think of such a specification as defining a random variable with the given distribution on an *unspecified probability space* through an *unspecified function*."
   ]
  },
  {
   "cell_type": "markdown",
   "metadata": {},
   "source": [
    "<a id='rv_vs_dist'></a>"
   ]
  },
  {
   "cell_type": "markdown",
   "metadata": {},
   "source": [
    "### Random variables versus distributions\n",
    "\n",
    "Random variables and distributions are two distinct concepts.  For example, the random variables in each of the following situations has a Binomial(5, 0.5) distribution.\n",
    "- $X$ is the number of Heads in five flips of a fair coin\n",
    "- $Y$ is the number of Tails in five flips of a fair coin\n",
    "- $Z$ is the number of even numbers rolled in five rolls of a fair six-sided die\n",
    "- $W$ is the number of boys in a random sample of five births\n",
    "\n",
    "Each of these situations involves a different probability space (coins, dice, births) with a random variable which counts according to different criteria (Heads, Tails, evens, boys).  These examples illustrate that knowledge that a random variable has a specific distribution (e.g. Binomial(5, 0.5)) does not necessarily convey any information about the underlying observational units or variable being measured.  This is why we say a specification like `X = RV(Binomial(n=5, p=0.5))` defines a random variable `X` on an *unspecified probability space* via an *unspecified function*."
   ]
  },
  {
   "cell_type": "markdown",
   "metadata": {},
   "source": [
    "It is important not to confuse a random variable with its distribution.  For example, suppose that a coin is flipped 5 times and $X$ represents the number of Heads and $Y$ the number of Tails in the 5 flips (so $Y = 5 - X$).  Note that $X$ and $Y$ are two different random variables; they measure different things.  For example, if the outcome of the flips is `(1, 0, 0, 1, 0)` then $X = 2$ but $Y = 3$.  In fact, in this example the values of $X$ and $Y$ are unequal for every outcome in the probability space (that is, $P(X = Y) = 0$).  "
   ]
  },
  {
   "cell_type": "code",
   "execution_count": 13,
   "metadata": {},
   "outputs": [
    {
     "data": {
      "text/html": [
       "\n",
       "<table>\n",
       "  <thead>\n",
       "    <th width=\"80%\">Outcome</th>\n",
       "    <th width=\"20%\">Value</th>\n",
       "  </thead>\n",
       "  <tbody>\n",
       "    <tr><td>False</td><td>10000</td></tr><tr><td><b>Total</b></td><td><b>10000</b></td></tr>\n",
       "  </tbody>\n",
       "</table>\n"
      ],
      "text/plain": [
       "{False: 10000}"
      ]
     },
     "execution_count": 13,
     "metadata": {},
     "output_type": "execute_result"
    }
   ],
   "source": [
    "P = BoxModel([1, 0], size = 5)\n",
    "X = RV(P, sum)\n",
    "Y = 5 - X\n",
    "(X == Y).sim(10000).tabulate()"
   ]
  },
  {
   "cell_type": "markdown",
   "metadata": {},
   "source": [
    "However, while $X$ and $Y$ are two different random variables, they do have the same distribution over many outcomes."
   ]
  },
  {
   "cell_type": "code",
   "execution_count": 14,
   "metadata": {
    "scrolled": true
   },
   "outputs": [
    {
     "data": {
      "image/png": "[encoded data removed]",
      "text/plain": [
       "<Figure size 432x288 with 1 Axes>"
      ]
     },
     "metadata": {
      "needs_background": "light"
     },
     "output_type": "display_data"
    }
   ],
   "source": [
    "X.sim(10000).plot()\n",
    "Y.sim(10000).plot(jitter = True)"
   ]
  },
  {
   "cell_type": "markdown",
   "metadata": {},
   "source": [
    "<a id='transform'></a>"
   ]
  },
  {
   "cell_type": "markdown",
   "metadata": {},
   "source": [
    "### Functions of a random variable"
   ]
  },
  {
   "cell_type": "markdown",
   "metadata": {},
   "source": [
    "A transformation of a random variable is also a random variable.  If $X$ is a random variable and $g$ is function, define a new random variable $Y=g(X)$ in Symbulate using the `.apply()` method, e.g. `Y = X.apply(g)`.  An `RV` defined via a transformation of another `RV` behaves like any Symbulate `RV`.\n",
    "\n",
    "Note that for arithmetic operations and many math functions (such as `exp`, `log`, `sin`) you can simply call `g(X)` rather than `X.apply(g)`.  User-defined functions can also be used to define or transform random variables.\n",
    "\n",
    "*Example.* If $X$ has a normal distribution, then $e^X$ has a *lognormal* distribution."
   ]
  },
  {
   "cell_type": "code",
   "execution_count": 15,
   "metadata": {},
   "outputs": [
    {
     "data": {
      "image/png": "[encoded data removed]",
      "text/plain": [
       "<Figure size 432x288 with 1 Axes>"
      ]
     },
     "metadata": {
      "needs_background": "light"
     },
     "output_type": "display_data"
    }
   ],
   "source": [
    "X = RV(Normal(mean=0, var=1))\n",
    "Y = exp(X) # same as X.apply(exp)\n",
    "Y.sim(10000).plot()"
   ]
  },
  {
   "cell_type": "markdown",
   "metadata": {},
   "source": [
    "*Example.* If $U$ has a Uniform(0,1) distribution then $-\\log(1-U)$ has an Exponential(1) distribution."
   ]
  },
  {
   "cell_type": "code",
   "execution_count": 16,
   "metadata": {},
   "outputs": [
    {
     "data": {
      "image/png": "[encoded data removed]",
      "text/plain": [
       "<Figure size 432x288 with 1 Axes>"
      ]
     },
     "metadata": {
      "needs_background": "light"
     },
     "output_type": "display_data"
    }
   ],
   "source": [
    "U = RV(Uniform(a=0, b=1))\n",
    "X = -log(1 - U)\n",
    "X.sim(10000).plot(alpha=0.5)\n",
    "RV(Exponential(1)).sim(10000).plot(alpha=0.5)"
   ]
  },
  {
   "cell_type": "markdown",
   "metadata": {},
   "source": [
    "*Example.* A user defined function with `.apply()`"
   ]
  },
  {
   "cell_type": "code",
   "execution_count": 17,
   "metadata": {},
   "outputs": [
    {
     "data": {
      "image/png": "[encoded data removed]",
      "text/plain": [
       "<Figure size 432x288 with 1 Axes>"
      ]
     },
     "metadata": {
      "needs_background": "light"
     },
     "output_type": "display_data"
    }
   ],
   "source": [
    "def g(x):\n",
    "    return min(abs(x - 1), 2)**2\n",
    "\n",
    "X = RV(Exponential(rate = 1))\n",
    "Y = X.apply(g)\n",
    "Y.sim(10000).plot()"
   ]
  },
  {
   "cell_type": "markdown",
   "metadata": {},
   "source": [
    "<a id='mean'></a>"
   ]
  },
  {
   "cell_type": "markdown",
   "metadata": {
    "collapsed": true
   },
   "source": [
    "### Expected value (mean)\n",
    "\n",
    "The **expected value** of a random variable, $E(X)$, is its probability-weighted average value. \n",
    "\n",
    "The expected value of a discrete random variable $X$ with probability mass function $p_X(x) = P(X=x)$ is\n",
    "$$\n",
    "E(X) = \\sum_{x} x \\, p_X(x)\n",
    "$$\n",
    "The expected value $E(X)$ of a continuous random variable $X$ with probability density function $f_X$ is\n",
    "$$\n",
    "E(X) = \\int\\limits_{-\\infty}\\limits^{+\\infty} x \\, f_{X}(x)\\, dx\n",
    "$$\n",
    "An expected value can be approximated by simulating many values of the random variable and finding their sample mean (i.e. average) using `.mean()`.\n",
    "\n",
    "*Example*.  If $X$ has a geometric distribution with $p = 0.1$ its expected value is $1/0.1 = 10$."
   ]
  },
  {
   "cell_type": "code",
   "execution_count": 18,
   "metadata": {},
   "outputs": [
    {
     "data": {
      "text/plain": [
       "10.1534"
      ]
     },
     "execution_count": 18,
     "metadata": {},
     "output_type": "execute_result"
    }
   ],
   "source": [
    "RV(Geometric(p=0.1)).sim(10000).mean()"
   ]
  },
  {
   "cell_type": "markdown",
   "metadata": {},
   "source": [
    "If x denotes simulated values, then either `x.mean()` or `mean(x)` will return the mean of the values."
   ]
  },
  {
   "cell_type": "code",
   "execution_count": 19,
   "metadata": {},
   "outputs": [
    {
     "data": {
      "text/plain": [
       "9.9767"
      ]
     },
     "execution_count": 19,
     "metadata": {},
     "output_type": "execute_result"
    }
   ],
   "source": [
    "x = RV(Geometric(p=0.1)).sim(10000)\n",
    "mean(x)"
   ]
  },
  {
   "cell_type": "markdown",
   "metadata": {},
   "source": [
    "Recall that output can be formatted using [print statements](index.html#displayoutput)."
   ]
  },
  {
   "cell_type": "code",
   "execution_count": 20,
   "metadata": {},
   "outputs": [
    {
     "name": "stdout",
     "output_type": "stream",
     "text": [
      "An estimate of E(X) is: 9.98\n"
     ]
    }
   ],
   "source": [
    "print('An estimate of E(X) is: {:.2f}'.format(mean(x)))"
   ]
  },
  {
   "cell_type": "markdown",
   "metadata": {},
   "source": [
    "<a id='var'></a>"
   ]
  },
  {
   "cell_type": "markdown",
   "metadata": {},
   "source": [
    "### Variance\n",
    "\n",
    "The variance of a random variable is the probability-weighted average of the squared deviation from the expected value:\n",
    "$$\n",
    "Var(X) = E\\left[\\left( X-E(X)\\right) ^2\\right].\n",
    "$$\n",
    "Similar to expected value, variance can be approximated by simulating many values of the random variable and finding their sample variance, using `.var()`.  (As with mean, both `x.var()` or `var(x)` are allowed.)\n",
    "\n",
    "*Example.* If $X$ has an exponential distribution with rate parameter $\\lambda=1/4$ its variance is 16."
   ]
  },
  {
   "cell_type": "code",
   "execution_count": 21,
   "metadata": {},
   "outputs": [
    {
     "data": {
      "text/plain": [
       "15.4486723510327"
      ]
     },
     "execution_count": 21,
     "metadata": {},
     "output_type": "execute_result"
    }
   ],
   "source": [
    "X = RV(Exponential(rate=1/4))\n",
    "x = X.sim(10000)\n",
    "x.var()"
   ]
  },
  {
   "cell_type": "markdown",
   "metadata": {},
   "source": [
    "Using `.var()` is equivalent to the following."
   ]
  },
  {
   "cell_type": "code",
   "execution_count": 22,
   "metadata": {},
   "outputs": [
    {
     "data": {
      "text/plain": [
       "15.4486723510327"
      ]
     },
     "execution_count": 22,
     "metadata": {},
     "output_type": "execute_result"
    }
   ],
   "source": [
    "((x - x.mean()) ** 2).mean()"
   ]
  },
  {
   "cell_type": "markdown",
   "metadata": {},
   "source": [
    "**Standard deviation**, `.sd()`, is the square root of the variance.  (As with mean, both `x.sd()` or `sd(x)` are allowed.)"
   ]
  },
  {
   "cell_type": "code",
   "execution_count": 23,
   "metadata": {},
   "outputs": [
    {
     "data": {
      "text/plain": [
       "3.930479913577056"
      ]
     },
     "execution_count": 23,
     "metadata": {},
     "output_type": "execute_result"
    }
   ],
   "source": [
    "x.sd()"
   ]
  },
  {
   "cell_type": "code",
   "execution_count": 24,
   "metadata": {},
   "outputs": [
    {
     "data": {
      "text/plain": [
       "3.930479913577056"
      ]
     },
     "execution_count": 24,
     "metadata": {},
     "output_type": "execute_result"
    }
   ],
   "source": [
    "sqrt(x.var())"
   ]
  },
  {
   "cell_type": "markdown",
   "metadata": {},
   "source": [
    "<a id='standardize'></a>\n",
    "### Standardizing simulated values"
   ]
  },
  {
   "cell_type": "markdown",
   "metadata": {},
   "source": [
    "A **standardized variable** is a variable that has been rescaled to have a mean of zero and a standard deviation of one.  Standardization is achieved by subtracting the mean from each value and then dividing by the standard deviation.  In Symbulate, the `.standardize()` method standardizes the simulated values of a random variable."
   ]
  },
  {
   "cell_type": "code",
   "execution_count": 25,
   "metadata": {},
   "outputs": [
    {
     "data": {
      "text/plain": [
       "(3.0076561871367624, 2.0031453749958876)"
      ]
     },
     "execution_count": 25,
     "metadata": {},
     "output_type": "execute_result"
    }
   ],
   "source": [
    "X = RV(Normal(mean=3, sd=2))\n",
    "x = X.sim(10000)\n",
    "x.mean(), x.sd()"
   ]
  },
  {
   "cell_type": "code",
   "execution_count": 26,
   "metadata": {},
   "outputs": [
    {
     "data": {
      "image/png": "[encoded data removed]",
      "text/plain": [
       "<Figure size 432x288 with 1 Axes>"
      ]
     },
     "metadata": {
      "needs_background": "light"
     },
     "output_type": "display_data"
    }
   ],
   "source": [
    "z = x.standardize()\n",
    "x.plot()\n",
    "z.plot()"
   ]
  },
  {
   "cell_type": "code",
   "execution_count": 27,
   "metadata": {},
   "outputs": [
    {
     "data": {
      "text/plain": [
       "(-1.2114753644709708e-16, 0.9999999999999998)"
      ]
     },
     "execution_count": 27,
     "metadata": {},
     "output_type": "execute_result"
    }
   ],
   "source": [
    "z.mean(), z.sd()"
   ]
  },
  {
   "cell_type": "markdown",
   "metadata": {},
   "source": [
    "Simulated output can be standardized (or otherwise manipulated) in a vectorized way."
   ]
  },
  {
   "cell_type": "code",
   "execution_count": 29,
   "metadata": {},
   "outputs": [
    {
     "data": {
      "image/png": "[encoded data removed]",
      "text/plain": [
       "<Figure size 432x288 with 1 Axes>"
      ]
     },
     "metadata": {
      "needs_background": "light"
     },
     "output_type": "display_data"
    }
   ],
   "source": [
    "y = (x - x.mean()) / x.sd()\n",
    "y.plot()\n",
    "z.plot()"
   ]
  }
 ],
 "metadata": {
  "anaconda-cloud": {},
  "kernelspec": {
   "display_name": "Python 3",
   "language": "python",
   "name": "python3"
  },
  "language_info": {
   "codemirror_mode": {
    "name": "ipython",
    "version": 3
   },
   "file_extension": ".py",
   "mimetype": "text/x-python",
   "name": "python",
   "nbconvert_exporter": "python",
   "pygments_lexer": "ipython3",
   "version": "3.7.3"
  }
 },
 "nbformat": 4,
 "nbformat_minor": 1
}
